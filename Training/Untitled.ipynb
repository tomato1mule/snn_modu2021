{
 "cells": [
  {
   "cell_type": "code",
   "execution_count": 1,
   "metadata": {},
   "outputs": [],
   "source": [
    "import numpy as np\n",
    "import cv2\n",
    "import matplotlib.pyplot as plt\n",
    "\n",
    "from neuron import NeuronParam, SimpleNeuron\n",
    "from synapse import Synapse\n",
    "from encoding import RF_convolution, encode, RF_kernel\n",
    "from parameter import TrainParam\n",
    "from STDP import stdp\n"
   ]
  },
  {
   "cell_type": "code",
   "execution_count": 2,
   "metadata": {},
   "outputs": [],
   "source": [
    "T = 200\n",
    "dt = 1\n",
    "\n",
    "t_pre = -20\n",
    "t_post = 20\n",
    "\n",
    "n1 = 28*28 # of neurons in layer 1\n",
    "n2 = 3 # of neurons in layer 2\n",
    "\n",
    "train_param = TrainParam(T = T,\n",
    "                         dt = dt)\n",
    "    \n",
    "neuron_param = NeuronParam(t_refractory = 5,\n",
    "                           V_rest = 0,\n",
    "                           V_thr = 5,\n",
    "                           V_min = -500,\n",
    "                           leak = 0.03, \n",
    "                           record = True)\n",
    "\n",
    "learning_rule = lambda x : stdp(x,\n",
    "                                tau_pre = 5, \n",
    "                                tau_post = 8, \n",
    "                                A_pre = 0.3, \n",
    "                                A_post = 0.8)"
   ]
  },
  {
   "cell_type": "code",
   "execution_count": 3,
   "metadata": {},
   "outputs": [],
   "source": [
    "timeline = np.arange(0,T+dt,dt)\n",
    "\n",
    "layer1 = [SimpleNeuron(neuron_param) for _ in range(n1)]\n",
    "layer2 = [SimpleNeuron(neuron_param) for _ in range(n2)]\n",
    "\n",
    "synapse_1 = Synapse(n0,layer1)\n",
    "synapse_2 = Synapse(n1,layer2)\n",
    "\n",
    "synapse_1.identity_initialize(mult=3)\n",
    "synapse_2.random_initialize(0,0.4)"
   ]
  },
  {
   "cell_type": "code",
   "execution_count": null,
   "metadata": {},
   "outputs": [],
   "source": []
  },
  {
   "cell_type": "code",
   "execution_count": null,
   "metadata": {},
   "outputs": [],
   "source": []
  },
  {
   "cell_type": "code",
   "execution_count": 4,
   "metadata": {},
   "outputs": [
    {
     "data": {
      "image/png": "[encoded data removed]",
      "text/plain": [
       "<Figure size 432x288 with 1 Axes>"
      ]
     },
     "metadata": {
      "needs_background": "light"
     },
     "output_type": "display_data"
    }
   ],
   "source": [
    "image = cv2.imread(\"data/0.png\",0)\n",
    "image = RF_convolution(image,RF_kernel)\n",
    "plt.imshow(image)\n",
    "plt.show()"
   ]
  },
  {
   "cell_type": "code",
   "execution_count": 5,
   "metadata": {},
   "outputs": [
    {
     "data": {
      "image/png": "[encoded data removed]",
      "text/plain": [
       "<Figure size 432x288 with 1 Axes>"
      ]
     },
     "metadata": {
      "needs_background": "light"
     },
     "output_type": "display_data"
    }
   ],
   "source": [
    "input_spiketrain = encode(image,train_param)\n",
    "plt.plot(input_spiketrain[211])\n",
    "plt.show()"
   ]
  },
  {
   "cell_type": "code",
   "execution_count": 6,
   "metadata": {},
   "outputs": [],
   "source": [
    "adaptation = 30000./np.sum(image)"
   ]
  },
  {
   "cell_type": "code",
   "execution_count": 7,
   "metadata": {},
   "outputs": [],
   "source": [
    "learn = True\n",
    "\n",
    "layer1_spiketrain = []\n",
    "layer2_spiketrain = []\n",
    "for i,t in enumerate(timeline):\n",
    "    input_spikes = input_spiketrain[:,i]\n",
    "    layer1_spikes = synapse_1.run(input_spikes,t,adaptation)\n",
    "    layer1_spiketrain.append(layer1_spikes)\n",
    "    layer2_spikes = synapse_2.run(layer1_spikes,t,adaptation)\n",
    "    layer2_spiketrain.append(layer2_spikes)\n",
    "    \n",
    "    if learn:\n",
    "        for j,s in enumerate(layer2_spikes):\n",
    "            if(s==1): #SPIKE\n",
    "                for t_ in range(-1,t_pre-1, -1):\n",
    "                    pass\n",
    "                    \n",
    "\n",
    "                    \n",
    "#layer1_spiketrain = np.array(layer1_spiketrain).T\n",
    "layer2_spiketrain = np.array(layer2_spiketrain).T"
   ]
  },
  {
   "cell_type": "code",
   "execution_count": null,
   "metadata": {},
   "outputs": [],
   "source": []
  },
  {
   "cell_type": "code",
   "execution_count": null,
   "metadata": {},
   "outputs": [],
   "source": []
  },
  {
   "cell_type": "code",
   "execution_count": null,
   "metadata": {},
   "outputs": [],
   "source": []
  },
  {
   "cell_type": "code",
   "execution_count": null,
   "metadata": {},
   "outputs": [],
   "source": []
  },
  {
   "cell_type": "code",
   "execution_count": 8,
   "metadata": {},
   "outputs": [
    {
     "data": {
      "text/plain": [
       "[<matplotlib.lines.Line2D at 0x7f910459a040>]"
      ]
     },
     "execution_count": 8,
     "metadata": {},
     "output_type": "execute_result"
    },
    {
     "data": {
      "image/png": "[encoded data removed]",
      "text/plain": [
       "<Figure size 432x288 with 1 Axes>"
      ]
     },
     "metadata": {
      "needs_background": "light"
     },
     "output_type": "display_data"
    }
   ],
   "source": [
    "plt.plot(layer1[211].V_history)"
   ]
  },
  {
   "cell_type": "code",
   "execution_count": null,
   "metadata": {},
   "outputs": [],
   "source": []
  },
  {
   "cell_type": "code",
   "execution_count": null,
   "metadata": {},
   "outputs": [],
   "source": []
  },
  {
   "cell_type": "code",
   "execution_count": 9,
   "metadata": {},
   "outputs": [
    {
     "data": {
      "text/plain": [
       "[<matplotlib.lines.Line2D at 0x7f9104538820>]"
      ]
     },
     "execution_count": 9,
     "metadata": {},
     "output_type": "execute_result"
    },
    {
     "data": {
      "image/png": "[encoded data removed]",
      "text/plain": [
       "<Figure size 432x288 with 1 Axes>"
      ]
     },
     "metadata": {
      "needs_background": "light"
     },
     "output_type": "display_data"
    }
   ],
   "source": [
    "plt.plot(layer1_spiketrain[211,:])"
   ]
  },
  {
   "cell_type": "code",
   "execution_count": null,
   "metadata": {},
   "outputs": [],
   "source": []
  },
  {
   "cell_type": "code",
   "execution_count": null,
   "metadata": {},
   "outputs": [],
   "source": []
  },
  {
   "cell_type": "code",
   "execution_count": null,
   "metadata": {},
   "outputs": [],
   "source": []
  },
  {
   "cell_type": "code",
   "execution_count": null,
   "metadata": {},
   "outputs": [],
   "source": []
  },
  {
   "cell_type": "code",
   "execution_count": null,
   "metadata": {},
   "outputs": [],
   "source": []
  },
  {
   "cell_type": "code",
   "execution_count": null,
   "metadata": {},
   "outputs": [],
   "source": []
  },
  {
   "cell_type": "code",
   "execution_count": null,
   "metadata": {},
   "outputs": [],
   "source": []
  },
  {
   "cell_type": "code",
   "execution_count": null,
   "metadata": {},
   "outputs": [],
   "source": []
  },
  {
   "cell_type": "code",
   "execution_count": null,
   "metadata": {},
   "outputs": [],
   "source": []
  }
 ],
 "metadata": {
  "kernelspec": {
   "display_name": "Python 3",
   "language": "python",
   "name": "python3"
  },
  "language_info": {
   "codemirror_mode": {
    "name": "ipython",
    "version": 3
   },
   "file_extension": ".py",
   "mimetype": "text/x-python",
   "name": "python",
   "nbconvert_exporter": "python",
   "pygments_lexer": "ipython3",
   "version": "3.8.10"
  }
 },
 "nbformat": 4,
 "nbformat_minor": 4
}
