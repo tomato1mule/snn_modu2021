{
 "cells": [
  {
   "cell_type": "code",
   "execution_count": 1,
   "metadata": {},
   "outputs": [],
   "source": [
    "import numpy as np\n",
    "import cv2\n",
    "import matplotlib.pyplot as plt\n",
    "from tqdm import tqdm\n",
    "\n",
    "from neuron import NeuronParam, SimpleNeuron\n",
    "from synapse import Synapse\n",
    "from encoding import RF_convolution, encode, RF_kernel\n",
    "from parameter import TrainParam\n",
    "from STDP import stdp\n"
   ]
  },
  {
   "cell_type": "code",
   "execution_count": 2,
   "metadata": {},
   "outputs": [],
   "source": [
    "np.random.seed(1)\n",
    "weight_seed = "
   ]
  },
  {
   "cell_type": "code",
   "execution_count": null,
   "metadata": {},
   "outputs": [],
   "source": []
  },
  {
   "cell_type": "code",
   "execution_count": null,
   "metadata": {},
   "outputs": [],
   "source": []
  },
  {
   "cell_type": "code",
   "execution_count": 3,
   "metadata": {},
   "outputs": [],
   "source": [
    "T = 150\n",
    "dt = 1\n",
    "t_pre = -20\n",
    "t_post = 20\n",
    "\n",
    "\n",
    "n1 = 16*16 # of neurons in layer 1\n",
    "n2 = 3 # of neurons in layer 2\n",
    "\n",
    "wmin=-1.2\n",
    "wmax=2.\n",
    "tau_pre = 10\n",
    "tau_post = 10\n",
    "A_pre = 0.3\n",
    "A_post = 0.8\n",
    "\n",
    "lr = 0.02\n",
    "\n",
    "train_param = TrainParam(T = T,\n",
    "                         dt = dt)\n",
    "    \n",
    "neuron_param = NeuronParam(t_refractory = 30,\n",
    "                           V_rest = 0,\n",
    "                           V_thr = 10,\n",
    "                           V_min = -5,\n",
    "                           leak = 0.75, \n",
    "                           record = True)\n",
    "\n",
    "learning_rule = lambda x : stdp(x,\n",
    "                                tau_pre = tau_pre, \n",
    "                                tau_post = tau_post, \n",
    "                                A_pre = A_pre, \n",
    "                                A_post = A_post)\n",
    "\n"
   ]
  },
  {
   "cell_type": "code",
   "execution_count": 4,
   "metadata": {},
   "outputs": [],
   "source": [
    "timeline = np.arange(0,T+dt,dt)\n",
    "\n",
    "layer = [SimpleNeuron(neuron_param) for _ in range(n2)]\n",
    "\n",
    "synapse = Synapse(n1,layer)\n",
    "\n",
    "synapse.random_initialize(0,wmax*0.5)"
   ]
  },
  {
   "cell_type": "code",
   "execution_count": null,
   "metadata": {},
   "outputs": [],
   "source": []
  },
  {
   "cell_type": "code",
   "execution_count": null,
   "metadata": {},
   "outputs": [],
   "source": []
  },
  {
   "cell_type": "code",
   "execution_count": 5,
   "metadata": {},
   "outputs": [
    {
     "name": "stdout",
     "output_type": "stream",
     "text": [
      "1.375 -0.75\n"
     ]
    }
   ],
   "source": [
    "image = cv2.imread(f\"data2/{0}.png\",0)\n",
    "image_ = RF_convolution(image,RF_kernel)\n",
    "#image_ = image\n",
    "input_spiketrain = encode(image_,train_param)\n",
    "print(np.max(image_),np.min(image_))"
   ]
  },
  {
   "cell_type": "code",
   "execution_count": 6,
   "metadata": {},
   "outputs": [
    {
     "name": "stdout",
     "output_type": "stream",
     "text": [
      "1.375\n"
     ]
    },
    {
     "data": {
      "image/png": "[encoded data removed]",
      "text/plain": [
       "<Figure size 432x288 with 1 Axes>"
      ]
     },
     "metadata": {
      "needs_background": "light"
     },
     "output_type": "display_data"
    }
   ],
   "source": [
    "idx=151\n",
    "print(image_.reshape(-1)[idx])\n",
    "plt.plot(input_spiketrain[idx])\n",
    "plt.title(\"input_spiketrain\")\n",
    "plt.show()"
   ]
  },
  {
   "cell_type": "code",
   "execution_count": 7,
   "metadata": {},
   "outputs": [
    {
     "data": {
      "text/plain": [
       "(array([], dtype=int64),)"
      ]
     },
     "execution_count": 7,
     "metadata": {},
     "output_type": "execute_result"
    }
   ],
   "source": [
    "np.nonzero(image_.reshape(-1)>500)"
   ]
  },
  {
   "cell_type": "code",
   "execution_count": 8,
   "metadata": {},
   "outputs": [
    {
     "data": {
      "text/plain": [
       "(array([ 46,  92, 138]),)"
      ]
     },
     "execution_count": 8,
     "metadata": {},
     "output_type": "execute_result"
    }
   ],
   "source": [
    "np.nonzero(input_spiketrain[idx])"
   ]
  },
  {
   "cell_type": "code",
   "execution_count": 9,
   "metadata": {},
   "outputs": [
    {
     "data": {
      "text/plain": [
       "46"
      ]
     },
     "execution_count": 9,
     "metadata": {},
     "output_type": "execute_result"
    }
   ],
   "source": [
    "91-45"
   ]
  },
  {
   "cell_type": "code",
   "execution_count": null,
   "metadata": {},
   "outputs": [],
   "source": []
  },
  {
   "cell_type": "code",
   "execution_count": 10,
   "metadata": {},
   "outputs": [
    {
     "data": {
      "text/plain": [
       "-0.5926545765453743"
      ]
     },
     "execution_count": 10,
     "metadata": {},
     "output_type": "execute_result"
    }
   ],
   "source": [
    "learning_rule(3)"
   ]
  },
  {
   "cell_type": "code",
   "execution_count": null,
   "metadata": {},
   "outputs": [],
   "source": []
  },
  {
   "cell_type": "code",
   "execution_count": null,
   "metadata": {},
   "outputs": [],
   "source": []
  },
  {
   "cell_type": "code",
   "execution_count": null,
   "metadata": {},
   "outputs": [],
   "source": []
  },
  {
   "cell_type": "code",
   "execution_count": null,
   "metadata": {},
   "outputs": [],
   "source": []
  },
  {
   "cell_type": "code",
   "execution_count": null,
   "metadata": {},
   "outputs": [],
   "source": []
  },
  {
   "cell_type": "code",
   "execution_count": null,
   "metadata": {},
   "outputs": [],
   "source": []
  },
  {
   "cell_type": "code",
   "execution_count": null,
   "metadata": {},
   "outputs": [],
   "source": []
  },
  {
   "cell_type": "code",
   "execution_count": null,
   "metadata": {},
   "outputs": [],
   "source": []
  },
  {
   "cell_type": "code",
   "execution_count": null,
   "metadata": {},
   "outputs": [],
   "source": []
  },
  {
   "cell_type": "code",
   "execution_count": null,
   "metadata": {},
   "outputs": [],
   "source": []
  },
  {
   "cell_type": "code",
   "execution_count": null,
   "metadata": {},
   "outputs": [],
   "source": []
  },
  {
   "cell_type": "code",
   "execution_count": null,
   "metadata": {},
   "outputs": [],
   "source": []
  },
  {
   "cell_type": "code",
   "execution_count": 11,
   "metadata": {},
   "outputs": [
    {
     "name": "stderr",
     "output_type": "stream",
     "text": [
      "100%|██████████| 3/3 [00:00<00:00,  9.73it/s]\n"
     ]
    }
   ],
   "source": [
    "learn = True\n",
    "inhibit = False\n",
    "n_epoch = 3\n",
    "\n",
    "epoch_output = []\n",
    "n_winner = np.zeros((3,n2))\n",
    "for epoch in tqdm(range(n_epoch)):\n",
    "    outputs = []\n",
    "    for num in range(3):\n",
    "\n",
    "\n",
    "\n",
    "        image = cv2.imread(f\"data2/{num}.png\",0)\n",
    "        image = RF_convolution(image,RF_kernel)\n",
    "        input_spiketrain = encode(image,train_param)\n",
    "        #adaptation = 300./np.max(np.sum(input_spiketrain,axis=0)) * 0.01\n",
    "        adaptation = 1\n",
    "        #var_thr_list = [13.333333,10.0,13.6666666]\n",
    "        #for neuron in layer:\n",
    "        #    neuron.V_thr = var_thr_list[num]\n",
    "        #print(adaptation)\n",
    "        \n",
    "\n",
    "        synapse.reset()\n",
    "\n",
    "\n",
    "        output_spiketrain = []\n",
    "        for i,t in enumerate(timeline):\n",
    "            input_spikes = input_spiketrain[:,i] # size = (n1, )\n",
    "            output_spikes = synapse.run(input_spikes,t,adaptation) # size = (n2,)\n",
    "            output_spiketrain.append(output_spikes)\n",
    "\n",
    "            if learn:\n",
    "                for j,s in enumerate(output_spikes):\n",
    "                    if(s==1): #SPIKE\n",
    "                        for delta_t in range(-dt-dt,t_pre-dt, -dt): #delta_t < 0\n",
    "                            if 0 <= t+delta_t <= T:\n",
    "                                tick = int(delta_t//dt)\n",
    "                                for k in range(n1):\n",
    "                                    if input_spiketrain[k,i+tick] == 1:\n",
    "                                        dw = learning_rule(delta_t)\n",
    "                                        w = synapse.weight[k,j]\n",
    "                                        assert dw>0\n",
    "                                        synapse.weight[k,j] += dw*(wmax-w)*lr*adaptation\n",
    "                        for delta_t in range(dt+dt,t_post+dt,dt): #delta_t > 0\n",
    "                            if 0 <= t+delta_t <= T:\n",
    "                                tick = int(delta_t//dt)\n",
    "                                for k in range(n1):\n",
    "                                    if input_spiketrain[k,i+tick] == 1:\n",
    "                                        dw = learning_rule(delta_t)\n",
    "                                        w = synapse.weight[k,j]\n",
    "                                        assert dw<0\n",
    "                                        #print(dw)\n",
    "                                        synapse.weight[k,j] += dw*(w-abs(wmin))*lr*adaptation\n",
    "\n",
    "            #if inhibit and np.sum(output_spikes) > 0: #if spike occurs\n",
    "            #    for i in range(n2):\n",
    "            #        if output_spikes[i] == 0: # if i'th neuron did not spiked\n",
    "            #            layer[i].inhibit() #inhibit i'th neuron\n",
    "            if inhibit:\n",
    "                tmp = np.arange(n2)\n",
    "                np.random.shuffle(tmp)\n",
    "                winner = -1\n",
    "                for idx in tmp:\n",
    "                    if output_spikes[idx] == 1:\n",
    "                        winner = idx\n",
    "                        break\n",
    "                if winner >= 0:\n",
    "                    for idx in range(n2):\n",
    "                        if idx != winner:\n",
    "                            layer[idx].inhibit()\n",
    "                    n_winner[num,winner] += 1\n",
    "                \n",
    "\n",
    "\n",
    "        outputs.append(np.array(output_spiketrain).T)\n",
    "    epoch_output.append(outputs)"
   ]
  },
  {
   "cell_type": "code",
   "execution_count": null,
   "metadata": {},
   "outputs": [],
   "source": []
  },
  {
   "cell_type": "code",
   "execution_count": null,
   "metadata": {},
   "outputs": [],
   "source": []
  },
  {
   "cell_type": "code",
   "execution_count": null,
   "metadata": {},
   "outputs": [],
   "source": []
  },
  {
   "cell_type": "code",
   "execution_count": 12,
   "metadata": {},
   "outputs": [
    {
     "data": {
      "image/png": "[encoded data removed]",
      "text/plain": [
       "<Figure size 1296x144 with 1 Axes>"
      ]
     },
     "metadata": {
      "needs_background": "light"
     },
     "output_type": "display_data"
    }
   ],
   "source": [
    "plt.figure(figsize=(18,2))\n",
    "plt.plot(layer[1].V_history)\n",
    "plt.title(\"V_history\")\n",
    "plt.show()"
   ]
  },
  {
   "cell_type": "code",
   "execution_count": 13,
   "metadata": {},
   "outputs": [
    {
     "data": {
      "text/plain": [
       "array([[2., 2., 5.],\n",
       "       [5., 5., 6.],\n",
       "       [4., 5., 5.]])"
      ]
     },
     "execution_count": 13,
     "metadata": {},
     "output_type": "execute_result"
    }
   ],
   "source": [
    "n_winner"
   ]
  },
  {
   "cell_type": "code",
   "execution_count": null,
   "metadata": {},
   "outputs": [],
   "source": []
  },
  {
   "cell_type": "code",
   "execution_count": null,
   "metadata": {},
   "outputs": [],
   "source": []
  },
  {
   "cell_type": "code",
   "execution_count": 14,
   "metadata": {},
   "outputs": [
    {
     "data": {
      "image/png": "[encoded data removed]",
      "text/plain": [
       "<Figure size 1296x432 with 3 Axes>"
      ]
     },
     "metadata": {
      "needs_background": "light"
     },
     "output_type": "display_data"
    }
   ],
   "source": [
    "epoch = n_epoch\n",
    "idx = 2\n",
    "fig = plt.figure(figsize=(18,2*n2))\n",
    "axes=[]\n",
    "for i in range(n2):\n",
    "    axes.append(fig.add_subplot(n2,1,i+1))\n",
    "    axes[i].plot(epoch_output[epoch-1][idx][i,:])"
   ]
  },
  {
   "cell_type": "code",
   "execution_count": null,
   "metadata": {},
   "outputs": [],
   "source": []
  },
  {
   "cell_type": "code",
   "execution_count": null,
   "metadata": {},
   "outputs": [],
   "source": []
  },
  {
   "cell_type": "code",
   "execution_count": 15,
   "metadata": {},
   "outputs": [
    {
     "data": {
      "image/png": "[encoded data removed]",
      "text/plain": [
       "<Figure size 864x864 with 3 Axes>"
      ]
     },
     "metadata": {
      "needs_background": "light"
     },
     "output_type": "display_data"
    },
    {
     "name": "stdout",
     "output_type": "stream",
     "text": [
      "1.0405771016317464 0.019276748188320484\n"
     ]
    }
   ],
   "source": [
    "fig = plt.figure(figsize=(12,12))\n",
    "axes = []\n",
    "row = 3\n",
    "col = n2//row + 1\n",
    "max_ = np.max(synapse.weight)\n",
    "min_ = np.min(synapse.weight)\n",
    "for num in range(n2):\n",
    "    learned_img = np.interp(synapse.weight[:,num].reshape(16,16),[min_,max_],[0,255])\n",
    "    axes.append(fig.add_subplot(row,col,num+1))\n",
    "    axes[num].imshow(learned_img,cmap='Greys')\n",
    "    axes[num].set_title(f\"neuron:{num}\")\n",
    "\n",
    "plt.show()\n",
    "\n",
    "print(max_, min_)\n"
   ]
  },
  {
   "cell_type": "code",
   "execution_count": null,
   "metadata": {},
   "outputs": [],
   "source": []
  },
  {
   "cell_type": "code",
   "execution_count": 16,
   "metadata": {},
   "outputs": [
    {
     "data": {
      "text/plain": [
       "[<matplotlib.lines.Line2D at 0x7fd737472580>]"
      ]
     },
     "execution_count": 16,
     "metadata": {},
     "output_type": "execute_result"
    },
    {
     "data": {
      "image/png": "[encoded data removed]",
      "text/plain": [
       "<Figure size 432x288 with 1 Axes>"
      ]
     },
     "metadata": {
      "needs_background": "light"
     },
     "output_type": "display_data"
    }
   ],
   "source": [
    "plt.plot(synapse.recent_activities)"
   ]
  },
  {
   "cell_type": "code",
   "execution_count": null,
   "metadata": {},
   "outputs": [],
   "source": []
  }
 ],
 "metadata": {
  "kernelspec": {
   "display_name": "Python 3",
   "language": "python",
   "name": "python3"
  },
  "language_info": {
   "codemirror_mode": {
    "name": "ipython",
    "version": 3
   },
   "file_extension": ".py",
   "mimetype": "text/x-python",
   "name": "python",
   "nbconvert_exporter": "python",
   "pygments_lexer": "ipython3",
   "version": "3.8.10"
  }
 },
 "nbformat": 4,
 "nbformat_minor": 4
}
