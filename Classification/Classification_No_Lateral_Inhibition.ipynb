{
 "cells": [
  {
   "cell_type": "code",
   "execution_count": 1,
   "metadata": {},
   "outputs": [],
   "source": [
    "import numpy as np\n",
    "from neuron import neuron\n",
    "import random\n",
    "from receptive_field import rf\n",
    "import imageio\n",
    "from spike_train import *\n",
    "from weight_initialization import learned_weights\n",
    "import matplotlib.pyplot as plt"
   ]
  },
  {
   "cell_type": "code",
   "execution_count": 2,
   "metadata": {},
   "outputs": [],
   "source": [
    "global time, T, dt, t_back, t_fore, w_min\n",
    "T = 200\n",
    "time  = np.arange(1, T+1, 1)\n",
    "t_back = -20\n",
    "t_fore = 20\n",
    "Pth = 150 #Should be Pth = 6 for deterministic spike train\n",
    "m = 784 #Number of neurons in first layer 28*28\n",
    "n = 8 #Number of neurons in second layer\n",
    "epochs = 1\n",
    "num_of_images = 6\n",
    "w_max = 0.5\n",
    "w_min = -0.5"
   ]
  },
  {
   "cell_type": "code",
   "execution_count": 3,
   "metadata": {},
   "outputs": [],
   "source": [
    "layer2=[neuron() for _ in range(n)]"
   ]
  },
  {
   "cell_type": "code",
   "execution_count": 4,
   "metadata": {},
   "outputs": [],
   "source": [
    "synapse = np.zeros((n,m))\n",
    "weight_matrix = learned_weights()\n",
    "#Synaptic strengths for neuron 0,1,2,3,4,5\n",
    "for i in range(num_of_images):\n",
    "    synapse[i] = weight_matrix[i]\n",
    "#Synaptic strengths for neuron 6,7 are random\n",
    "synapse[num_of_images:] = np.random.uniform(w_min,w_max,size = (n - num_of_images , m))"
   ]
  },
  {
   "cell_type": "raw",
   "metadata": {},
   "source": [
    "for epoch in range(epochs):\n",
    "    for digit in range(num_of_images):\n",
    "        "
   ]
  },
  {
   "cell_type": "code",
   "execution_count": 5,
   "metadata": {},
   "outputs": [
    {
     "name": "stdout",
     "output_type": "stream",
     "text": [
      "Winner: 0   @ t=4\n",
      "Winner: 1   @ t=5\n",
      "Winner: 2   @ t=4\n",
      "Winner: 3   @ t=4\n",
      "Winner: 4   @ t=20\n",
      "Winner: 5   @ t=4\n"
     ]
    }
   ],
   "source": [
    "spike_counts = []\n",
    "for k in range(epochs):\n",
    "    for i in range(6):\n",
    "        spike_count = np.zeros((n,1))\n",
    "\n",
    "        #read the image to be classified\n",
    "        img = imageio.imread(\"data/\" + str(i) + \".png\")\n",
    "\n",
    "        #initialize the potentials of output neurons\n",
    "        for x in layer2:\n",
    "            x.initial()\n",
    "\n",
    "    #calculate teh membrane potentials of input neurons\n",
    "        pot = rf(img)\n",
    "\n",
    "    #generate spike trains. Select between deterministic and stochastic\n",
    "        # train = np.array(encode_deterministic(pot))\n",
    "        train = np.array(encode_stochastic(img))\n",
    "\n",
    "    #flag for lateral inhibition\n",
    "        f_spike = 0\n",
    "        active_pot = np.zeros((n,1))\n",
    "        for t in time:\n",
    "            for j, x in enumerate(layer2):\n",
    "                active = []\n",
    "\n",
    "        #update potential if not in refractory period\n",
    "                if(x.t_rest<t):\n",
    "                    x.P = x.P + np.dot(synapse[j], train[:,t])\n",
    "                    if(x.P>x.Prest):\n",
    "                        x.P -= x.D\n",
    "                    active_pot[j] = x.P\n",
    "\n",
    "            # Lateral Inhibition\n",
    "            if(f_spike==0):\n",
    "                high_pot = max(active_pot)\n",
    "                if(high_pot>Pth):\n",
    "                    f_spike = 1\n",
    "                    winner = np.argmax(active_pot)\n",
    "                    for s in range(n):\n",
    "                        if(s!=winner):\n",
    "                            #layer2[s].P = layer2[s].Pmin\n",
    "                            pass\n",
    "                    print(f\"Winner: {winner}   @ t={t}\")\n",
    "\n",
    "            #Check for spikes\n",
    "            for j,x in enumerate(layer2):\n",
    "                s = x.check()\n",
    "                if(s==1):\n",
    "                    spike_count[j] += 1\n",
    "                    x.t_rest = t + x.t_ref\n",
    "        #print(spike_count)\n",
    "        spike_counts.append(spike_count)"
   ]
  },
  {
   "cell_type": "code",
   "execution_count": null,
   "metadata": {},
   "outputs": [],
   "source": []
  },
  {
   "cell_type": "code",
   "execution_count": 6,
   "metadata": {},
   "outputs": [
    {
     "data": {
      "image/png": "[encoded data removed]",
      "text/plain": [
       "<Figure size 432x288 with 1 Axes>"
      ]
     },
     "metadata": {
      "needs_background": "light"
     },
     "output_type": "display_data"
    },
    {
     "data": {
      "image/png": "[encoded data removed]",
      "text/plain": [
       "<Figure size 432x288 with 1 Axes>"
      ]
     },
     "metadata": {
      "needs_background": "light"
     },
     "output_type": "display_data"
    },
    {
     "data": {
      "image/png": "[encoded data removed]",
      "text/plain": [
       "<Figure size 432x288 with 1 Axes>"
      ]
     },
     "metadata": {
      "needs_background": "light"
     },
     "output_type": "display_data"
    },
    {
     "data": {
      "image/png": "[encoded data removed]",
      "text/plain": [
       "<Figure size 432x288 with 1 Axes>"
      ]
     },
     "metadata": {
      "needs_background": "light"
     },
     "output_type": "display_data"
    },
    {
     "data": {
      "image/png": "[encoded data removed]",
      "text/plain": [
       "<Figure size 432x288 with 1 Axes>"
      ]
     },
     "metadata": {
      "needs_background": "light"
     },
     "output_type": "display_data"
    },
    {
     "data": {
      "image/png": "[encoded data removed]",
      "text/plain": [
       "<Figure size 432x288 with 1 Axes>"
      ]
     },
     "metadata": {
      "needs_background": "light"
     },
     "output_type": "display_data"
    }
   ],
   "source": [
    "for i in range(6):\n",
    "    plt.bar([i for i in range(8)],spike_counts[i].reshape(-1))\n",
    "    plt.title(f\"Digit:{i}\")\n",
    "    plt.show()"
   ]
  },
  {
   "cell_type": "code",
   "execution_count": null,
   "metadata": {},
   "outputs": [],
   "source": []
  },
  {
   "cell_type": "code",
   "execution_count": null,
   "metadata": {},
   "outputs": [],
   "source": []
  }
 ],
 "metadata": {
  "kernelspec": {
   "display_name": "Python 3",
   "language": "python",
   "name": "python3"
  },
  "language_info": {
   "codemirror_mode": {
    "name": "ipython",
    "version": 3
   },
   "file_extension": ".py",
   "mimetype": "text/x-python",
   "name": "python",
   "nbconvert_exporter": "python",
   "pygments_lexer": "ipython3",
   "version": "3.8.10"
  }
 },
 "nbformat": 4,
 "nbformat_minor": 4
}
