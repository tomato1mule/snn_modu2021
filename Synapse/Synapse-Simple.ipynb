{
 "cells": [
  {
   "cell_type": "code",
   "execution_count": 1,
   "metadata": {},
   "outputs": [],
   "source": [
    "import numpy as np\n",
    "import matplotlib.pyplot as plt"
   ]
  },
  {
   "cell_type": "code",
   "execution_count": 2,
   "metadata": {},
   "outputs": [],
   "source": [
    "global Pref, Pmin, Pth, D, Pspike, time, T, dt\n",
    "T = 500\n",
    "dt = 0.125\n",
    "Pref = 0\n",
    "Pmin = -1\n",
    "Pth = 5\n",
    "D = 0.25\n",
    "#R = 5\n",
    "Pspike = 40\n",
    "t_ref = 5"
   ]
  },
  {
   "cell_type": "code",
   "execution_count": 3,
   "metadata": {},
   "outputs": [],
   "source": [
    "time = np.arange(0, T+dt, dt)"
   ]
  },
  {
   "cell_type": "code",
   "execution_count": 4,
   "metadata": {},
   "outputs": [],
   "source": [
    "class SimpleNeuron:\n",
    "    def __init__(self,):\n",
    "        self.t_rest = 0\n",
    "        self.Pn = np.zeros(len(time))\n",
    "        self.spike = np.zeros(len(time))\n",
    "    def out(self,S,w): # S: Spike Matrix, w: Weight\n",
    "        for i,t in enumerate(time):\n",
    "            if i==0: # Initialize\n",
    "                a1 = S[:,i] # Spikes of Presynaptic Neurons at timestep i \n",
    "                self.Pn[i] = np.dot(w,a1) - D\n",
    "                self.spike[i] = 0\n",
    "            else:\n",
    "                if t<=self.t_rest: # In Refractory Period\n",
    "                    self.Pn[i] = Pref\n",
    "                    self.spike[i] = 0\n",
    "                elif t>self.t_rest: # Active\n",
    "                    if self.Pn[i-1]>Pmin: #Not Hyperpolaruzed\n",
    "                        a1 = S[:,i] # Spikes of Presynaptic Neurons at timestep i \n",
    "                        self.Pn[i] = self.Pn[i-1] + np.dot(w,a1) - D\n",
    "                        self.spike[i] = 0\n",
    "                    else: # Hyperpolarized\n",
    "                        self.Pn[i] = 0\n",
    "                        self.spike[i] = 0\n",
    "                if self.Pn[i]>=Pth: # Spike\n",
    "                    self.Pn[i] = Pspike\n",
    "                    self.t_rest = t + t_ref\n",
    "                    self.spike[i] = 1\n",
    "        return self.spike"
   ]
  },
  {
   "cell_type": "code",
   "execution_count": 5,
   "metadata": {},
   "outputs": [],
   "source": [
    "# Initialize Layer\n",
    "\n",
    "n1 = 5 # of neurons in 1st layer\n",
    "n2 = 3 # of neurons in 2nd layer\n",
    "\n",
    "layer1 = []\n",
    "layer2 = []\n",
    "\n",
    "for i in range(n1):\n",
    "    a = SimpleNeuron()\n",
    "    layer1.append(a)\n",
    "for j in range(n2):\n",
    "    a = SimpleNeuron()\n",
    "    layer2.append(a)"
   ]
  },
  {
   "cell_type": "code",
   "execution_count": 6,
   "metadata": {},
   "outputs": [],
   "source": [
    "# Initialize synaptic weight\n",
    "\n",
    "w01 = np.eye(n1)\n",
    "w12 = np.random.randint(0,5,size=(n1,n2))"
   ]
  },
  {
   "cell_type": "code",
   "execution_count": 7,
   "metadata": {},
   "outputs": [],
   "source": [
    "# Initialize random input\n",
    "\n",
    "S_input = np.random.randint(0,2,size=(n1,len(time)))"
   ]
  },
  {
   "cell_type": "code",
   "execution_count": 8,
   "metadata": {},
   "outputs": [],
   "source": [
    "S1=[]\n",
    "S2=[]\n",
    "for i,neuron in enumerate(layer1):\n",
    "    S1.append(neuron.out(S_input,w01[i]))\n",
    "S1=np.stack(S1)\n",
    "for i,neuron in enumerate(layer2):\n",
    "    S2.append(neuron.out(S1,w12[:,i]))\n",
    "S2=np.stack(S2)"
   ]
  },
  {
   "cell_type": "code",
   "execution_count": 9,
   "metadata": {},
   "outputs": [
    {
     "data": {
      "image/png": "[encoded data removed]",
      "text/plain": [
       "<Figure size 1296x432 with 1 Axes>"
      ]
     },
     "metadata": {
      "needs_background": "light"
     },
     "output_type": "display_data"
    }
   ],
   "source": [
    "duration = 300\n",
    "post = 0\n",
    "\n",
    "pre_neurons = layer1\n",
    "post_neuron = layer2[post]\n",
    "\n",
    "plt.figure(figsize=(18,6))\n",
    "plt.plot(post_neuron.Pn[:duration])\n",
    "for i,neuron in enumerate(pre_neurons):\n",
    "    plt.stem(neuron.spike[:duration]*w12[i,post]*5,markerfmt=\" \",linefmt='C1-')\n",
    "plt.show()"
   ]
  },
  {
   "cell_type": "code",
   "execution_count": null,
   "metadata": {},
   "outputs": [],
   "source": []
  },
  {
   "cell_type": "code",
   "execution_count": null,
   "metadata": {},
   "outputs": [],
   "source": []
  }
 ],
 "metadata": {
  "kernelspec": {
   "display_name": "Python 3",
   "language": "python",
   "name": "python3"
  },
  "language_info": {
   "codemirror_mode": {
    "name": "ipython",
    "version": 3
   },
   "file_extension": ".py",
   "mimetype": "text/x-python",
   "name": "python",
   "nbconvert_exporter": "python",
   "pygments_lexer": "ipython3",
   "version": "3.8.10"
  }
 },
 "nbformat": 4,
 "nbformat_minor": 4
}
