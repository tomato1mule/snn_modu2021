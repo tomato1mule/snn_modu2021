{
 "cells": [
  {
   "cell_type": "code",
   "execution_count": 1,
   "metadata": {},
   "outputs": [],
   "source": [
    "import numpy as np\n",
    "import cv2\n",
    "import matplotlib.pyplot as plt\n",
    "from tqdm import tqdm\n",
    "\n",
    "from neuron import NeuronParam, SimpleNeuron\n",
    "from synapse import Synapse\n",
    "from encoding import RF_convolution, encode, RF_kernel\n",
    "from parameter import TrainParam\n",
    "from STDP import stdp, stdp_update"
   ]
  },
  {
   "cell_type": "code",
   "execution_count": 2,
   "metadata": {},
   "outputs": [],
   "source": [
    "np.random.seed(123)"
   ]
  },
  {
   "cell_type": "code",
   "execution_count": 3,
   "metadata": {},
   "outputs": [],
   "source": [
    "T = 150\n",
    "dt = 1\n",
    "t_past = -20\n",
    "t_future = 20\n",
    "\n",
    "\n",
    "n1 = 28*28 # of neurons in layer 1\n",
    "n2 = 6 # of neurons in layer 2\n",
    "\n",
    "\n",
    "wmin=-1.2\n",
    "wmax=2.\n",
    "tau_past = 10\n",
    "tau_future = 10\n",
    "A_past = 0.3\n",
    "A_future = 0.8\n",
    "\n",
    "lr = 0.02\n",
    "\n",
    "train_param = TrainParam(T = T,\n",
    "                         dt = dt)\n",
    "    \n",
    "neuron_param = NeuronParam(t_refractory = 30,\n",
    "                           V_rest = 0,\n",
    "                           V_thr = 50,\n",
    "                           V_min = -5,\n",
    "                           V_inhibit = -5,\n",
    "                           leak = 0.75) \n",
    "\n",
    "learning_rule = lambda t : stdp(t,\n",
    "                                tau_past = tau_past, \n",
    "                                tau_future = tau_future, \n",
    "                                A_past = A_past, \n",
    "                                A_future = A_future)\n",
    "\n",
    "update = lambda w,dw,scale : stdp_update(w,dw,scale,lr,wmin,wmax)"
   ]
  },
  {
   "cell_type": "code",
   "execution_count": 4,
   "metadata": {},
   "outputs": [],
   "source": [
    "timeline = np.arange(0,T+dt,dt)\n",
    "layer = [SimpleNeuron(neuron_param) for _ in range(n2)]\n",
    "synapse = Synapse(n1,layer)\n",
    "synapse.random_initialize(0,wmax*0.5)"
   ]
  },
  {
   "cell_type": "code",
   "execution_count": 5,
   "metadata": {},
   "outputs": [
    {
     "name": "stderr",
     "output_type": "stream",
     "text": [
      "100%|██████████| 30/30 [00:04<00:00,  7.48it/s]\n"
     ]
    }
   ],
   "source": [
    "learn = True\n",
    "n_epoch = 30\n",
    "\n",
    "for epoch in tqdm(range(n_epoch)):\n",
    "    for num in range(6):\n",
    "        winner = -1\n",
    "        \n",
    "        image = cv2.imread(f\"data/{num}.png\",0)\n",
    "        image = RF_convolution(image,RF_kernel)\n",
    "        input_spiketrain = encode(image,train_param)\n",
    "        #adaptation = 1   # No Adaptation\n",
    "        #adaptation = 18/np.max(np.sum(input_spiketrain,axis=0))  # Adaptation w.r.t. maximum simulatneous activation     \n",
    "        adaptation = 100/np.sum(image) # Adaptation w.r.t input intensity\n",
    "\n",
    "        synapse.reset_all_neurons()\n",
    "        \n",
    "        output_spiketrain = []\n",
    "        for timestep,t in enumerate(timeline):\n",
    "            input_spikes = input_spiketrain[:,timestep] # size = (n1, 1)\n",
    "            result = synapse.run(input_spikes,\n",
    "                                 t,\n",
    "                                 scale = adaptation,\n",
    "                                 lateral_inhibition = (winner == -1)) # Inhibit Once\n",
    "                                 #lateral_inhibition = True) # Inhibit Multiple Times \n",
    "                                 #lateral_inhibition = False) # No Inhibit\n",
    "                \n",
    "            \n",
    "            \n",
    "            if not result['winner'] == -1:\n",
    "                winner = result['winner'] # First firing neuron is winner\n",
    "                \n",
    "                \n",
    "            if learn:\n",
    "                for out_idx,has_spiked in enumerate(result['output']):\n",
    "                    if(has_spiked==1): #SPIKE\n",
    "                        for delta_t in range(-dt-dt,t_past-dt, -dt): #delta_t < 0\n",
    "                            if 0 <= t+delta_t <= T:\n",
    "                                tick = int(delta_t//dt)\n",
    "                                for in_idx in range(n1):\n",
    "                                    if input_spiketrain[in_idx,timestep+tick] == 1:\n",
    "                                        dw = learning_rule(delta_t)\n",
    "                                        w = synapse.weight[out_idx, in_idx]\n",
    "                                        assert dw>0\n",
    "                                        synapse.weight[out_idx, in_idx] = update(w,dw,adaptation) \n",
    "                        for delta_t in range(dt+dt,t_future+dt,dt): #delta_t > 0\n",
    "                            if 0 <= t+delta_t <= T:\n",
    "                                tick = int(delta_t//dt)\n",
    "                                for in_idx in range(n1):\n",
    "                                    if input_spiketrain[in_idx,timestep+tick] == 1:\n",
    "                                        dw = learning_rule(delta_t)\n",
    "                                        w = synapse.weight[out_idx, in_idx]\n",
    "                                        assert dw<0\n",
    "                                        synapse.weight[out_idx, in_idx] = update(w,dw,adaptation) \n",
    "        \n",
    "        # Stdp only works when pre/postsynaptic neurons both fire.\n",
    "        # Therefore no learning can be done if there's no input.\n",
    "        # As a result, unless given sufficient samples,\n",
    "        # a single neuron can be activated by multiple numbers.\n",
    "        # To avoid this phenomena, we reduce synaptic weight of\n",
    "        # zero-spike pixel to the winner neuron.\n",
    "        # Therefore, the winner neuron will be less likely to\n",
    "        # fire when other number has been presented in the future\n",
    "        if winner != -1:\n",
    "            input_spike_count = np.sum(input_spiketrain,axis=1) == 0\n",
    "            zero_spike_inputs = np.nonzero(input_spike_count)[0]\n",
    "            for i in zero_spike_inputs:\n",
    "                    synapse.weight[winner,i] = \\\n",
    "                    max(synapse.weight[winner,i]-(0.06*adaptation) , wmin)\n",
    " "
   ]
  },
  {
   "cell_type": "code",
   "execution_count": 6,
   "metadata": {},
   "outputs": [
    {
     "data": {
      "image/png": "[encoded data removed]",
      "text/plain": [
       "<Figure size 720x720 with 6 Axes>"
      ]
     },
     "metadata": {
      "needs_background": "light"
     },
     "output_type": "display_data"
    }
   ],
   "source": [
    "fig = plt.figure(figsize=(10,10))\n",
    "size = int(np.sqrt(n1))\n",
    "row = 3\n",
    "col = n2//row + 1\n",
    "for num in range(n2):\n",
    "    plt.subplot(row,col,num+1)\n",
    "    learned_img = np.interp(synapse.weight[num,:].reshape(size,size),\n",
    "                            [wmin,wmax],\n",
    "                            [0,255])\n",
    "    plt.imshow(learned_img)\n",
    "    plt.title(f\"neuron:{num}\")\n",
    "plt.show()"
   ]
  },
  {
   "cell_type": "code",
   "execution_count": null,
   "metadata": {},
   "outputs": [],
   "source": []
  },
  {
   "cell_type": "code",
   "execution_count": null,
   "metadata": {},
   "outputs": [],
   "source": []
  },
  {
   "cell_type": "code",
   "execution_count": null,
   "metadata": {},
   "outputs": [],
   "source": []
  },
  {
   "cell_type": "code",
   "execution_count": null,
   "metadata": {},
   "outputs": [],
   "source": []
  }
 ],
 "metadata": {
  "kernelspec": {
   "display_name": "Python 3",
   "language": "python",
   "name": "python3"
  },
  "language_info": {
   "codemirror_mode": {
    "name": "ipython",
    "version": 3
   },
   "file_extension": ".py",
   "mimetype": "text/x-python",
   "name": "python",
   "nbconvert_exporter": "python",
   "pygments_lexer": "ipython3",
   "version": "3.8.10"
  }
 },
 "nbformat": 4,
 "nbformat_minor": 4
}
