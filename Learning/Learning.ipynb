{
 "cells": [
  {
   "cell_type": "code",
   "execution_count": 1,
   "metadata": {},
   "outputs": [],
   "source": [
    "import numpy as np\n",
    "import cv2\n",
    "import matplotlib.pyplot as plt\n",
    "from tqdm import tqdm\n",
    "\n",
    "from neuron import NeuronParam, SimpleNeuron\n",
    "from synapse import Synapse\n",
    "from encoding import RF_convolution, encode, RF_kernel\n",
    "from parameter import TrainParam\n",
    "from STDP import stdp, stdp_update"
   ]
  },
  {
   "cell_type": "code",
   "execution_count": 2,
   "metadata": {},
   "outputs": [],
   "source": [
    "T = 150\n",
    "dt = 1\n",
    "t_past = -20\n",
    "t_future = 20\n",
    "\n",
    "\n",
    "n1 = 16*16 # of neurons in layer 1\n",
    "n2 = 3 # of neurons in layer 2\n",
    "\n",
    "wmin=-1.2\n",
    "wmax=2.\n",
    "tau_past = 10\n",
    "tau_future = 10\n",
    "A_past = 0.3\n",
    "A_future = 0.8\n",
    "\n",
    "lr = 0.02\n",
    "\n",
    "train_param = TrainParam(T = T,\n",
    "                         dt = dt)\n",
    "    \n",
    "neuron_param = NeuronParam(t_refractory = 30,\n",
    "                           V_rest = 0,\n",
    "                           V_thr = 10,\n",
    "                           V_min = -500,\n",
    "                           V_inhibit = -500,\n",
    "                           leak = 0.75, \n",
    "                           record = True)\n",
    "\n",
    "learning_rule = lambda t : stdp(t,\n",
    "                                tau_past = tau_past, \n",
    "                                tau_future = tau_future, \n",
    "                                A_past = A_past, \n",
    "                                A_future = A_future)\n",
    "\n",
    "update = lambda w,dw,scale : stdp_update(w,dw,scale,lr,wmin,wmax)"
   ]
  },
  {
   "cell_type": "code",
   "execution_count": 3,
   "metadata": {},
   "outputs": [],
   "source": [
    "timeline = np.arange(0,T+dt,dt)\n",
    "layer = [SimpleNeuron(neuron_param) for _ in range(n2)]\n",
    "synapse = Synapse(n1,layer)\n",
    "synapse.random_initialize(0,wmax*0.5)"
   ]
  },
  {
   "cell_type": "code",
   "execution_count": 4,
   "metadata": {},
   "outputs": [
    {
     "name": "stderr",
     "output_type": "stream",
     "text": [
      "100%|██████████| 3/3 [00:00<00:00, 19.25it/s]\n"
     ]
    }
   ],
   "source": [
    "learn = True\n",
    "inhibit = True\n",
    "n_epoch = 3\n",
    "\n",
    "for epoch in tqdm(range(n_epoch)):\n",
    "    for num in range(3):\n",
    "        winner = -1\n",
    "        if not inhibit:\n",
    "            #winner = 100\n",
    "            pass\n",
    "        \n",
    "        \n",
    "        image = cv2.imread(f\"data2/{num}.png\",0)\n",
    "        image = RF_convolution(image,RF_kernel)\n",
    "        input_spiketrain = encode(image,train_param)\n",
    "        adaptation = 1\n",
    "\n",
    "        synapse.reset_all_neurons()\n",
    "        \n",
    "        output_spiketrain = []\n",
    "        for timestep,t in enumerate(timeline):\n",
    "            input_spikes = input_spiketrain[:,timestep] # size = (n1, 1)\n",
    "            result = synapse.run(input_spikes,\n",
    "                                 t,\n",
    "                                 scale = adaptation,\n",
    "                                 lateral_inhibition = (winner == -1))\n",
    "            \n",
    "            \n",
    "            if not result['winner'] == -1:\n",
    "                winner = result['winner']\n",
    "                \n",
    "                \n",
    "            if learn:\n",
    "                for out_idx,has_spiked in enumerate(result['output']):\n",
    "                    if(has_spiked==1): #SPIKE\n",
    "                        for delta_t in range(-dt-dt,t_past-dt, -dt): #delta_t < 0\n",
    "                            if 0 <= t+delta_t <= T:\n",
    "                                tick = int(delta_t//dt)\n",
    "                                for in_idx in range(n1):\n",
    "                                    if input_spiketrain[in_idx,timestep+tick] == 1:\n",
    "                                        dw = learning_rule(delta_t)\n",
    "                                        w = synapse.weight[out_idx, in_idx]\n",
    "                                        assert dw>0\n",
    "                                        synapse.weight[out_idx, in_idx] = update(w,dw,adaptation) \n",
    "                        for delta_t in range(dt+dt,t_future+dt,dt): #delta_t > 0\n",
    "                            if 0 <= t+delta_t <= T:\n",
    "                                tick = int(delta_t//dt)\n",
    "                                for in_idx in range(n1):\n",
    "                                    if input_spiketrain[in_idx,timestep+tick] == 1:\n",
    "                                        dw = learning_rule(delta_t)\n",
    "                                        w = synapse.weight[out_idx, in_idx]\n",
    "                                        assert dw<0\n",
    "                                        synapse.weight[out_idx, in_idx] = update(w,dw,adaptation) \n",
    "            \n",
    "            \n",
    "        if winner != -1:\n",
    "            input_spike_count = np.sum(input_spiketrain,axis=1) == 0\n",
    "            zero_spike_inputs = np.nonzero(input_spike_count)[0]\n",
    "            for i in zero_spike_inputs:\n",
    "                    synapse.weight[winner,i] = \\\n",
    "                    min(synapse.weight[winner,i]-(0.06*adaptation) , wmin)\n",
    "                    \n",
    "                    \n",
    "                    \n",
    "                \n",
    "            \n",
    "            "
   ]
  },
  {
   "cell_type": "code",
   "execution_count": null,
   "metadata": {},
   "outputs": [],
   "source": []
  },
  {
   "cell_type": "code",
   "execution_count": null,
   "metadata": {},
   "outputs": [],
   "source": []
  },
  {
   "cell_type": "code",
   "execution_count": 11,
   "metadata": {},
   "outputs": [
    {
     "data": {
      "image/png": "[encoded data removed]",
      "text/plain": [
       "<Figure size 864x864 with 3 Axes>"
      ]
     },
     "metadata": {
      "needs_background": "light"
     },
     "output_type": "display_data"
    },
    {
     "name": "stdout",
     "output_type": "stream",
     "text": [
      "1.0073055959560793 -1.32\n"
     ]
    }
   ],
   "source": [
    "fig = plt.figure(figsize=(12,12))\n",
    "axes = []\n",
    "row = 3\n",
    "col = n2//row + 1\n",
    "max_ = np.max(synapse.weight)\n",
    "min_ = np.min(synapse.weight)\n",
    "for num in range(n2):\n",
    "    learned_img = np.interp(synapse.weight[num,:].reshape(16,16),[wmin,wmax],[0,255])    \n",
    "    axes.append(fig.add_subplot(row,col,num+1))\n",
    "    #axes[num].imshow(learned_img,cmap='Greys')\n",
    "    axes[num].imshow(learned_img)\n",
    "    axes[num].set_title(f\"neuron:{num}\")\n",
    "\n",
    "plt.show()\n",
    "\n",
    "print(max_, min_)"
   ]
  },
  {
   "cell_type": "code",
   "execution_count": null,
   "metadata": {},
   "outputs": [],
   "source": []
  },
  {
   "cell_type": "code",
   "execution_count": null,
   "metadata": {},
   "outputs": [],
   "source": []
  },
  {
   "cell_type": "code",
   "execution_count": null,
   "metadata": {},
   "outputs": [],
   "source": []
  },
  {
   "cell_type": "code",
   "execution_count": null,
   "metadata": {},
   "outputs": [],
   "source": []
  },
  {
   "cell_type": "code",
   "execution_count": null,
   "metadata": {},
   "outputs": [],
   "source": []
  }
 ],
 "metadata": {
  "kernelspec": {
   "display_name": "Python 3",
   "language": "python",
   "name": "python3"
  },
  "language_info": {
   "codemirror_mode": {
    "name": "ipython",
    "version": 3
   },
   "file_extension": ".py",
   "mimetype": "text/x-python",
   "name": "python",
   "nbconvert_exporter": "python",
   "pygments_lexer": "ipython3",
   "version": "3.8.10"
  }
 },
 "nbformat": 4,
 "nbformat_minor": 4
}
